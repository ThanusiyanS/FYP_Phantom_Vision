{
  "cells": [
    {
      "cell_type": "markdown",
      "id": "34ad637b",
      "metadata": {
        "id": "34ad637b"
      },
      "source": [
        "# 🎧 Audio Classification Module\n",
        "\n",
        "This notebook demonstrates preprocessing, training, prediction, and audio quality assessment for audio-based car crash detection using YAMNet."
      ]
    },
    {
      "cell_type": "markdown",
      "id": "ac722869",
      "metadata": {
        "id": "ac722869"
      },
      "source": [
        "## 🔧 Install Dependencies"
      ]
    },
    {
      "cell_type": "code",
      "execution_count": 7,
      "id": "0c72cf09",
      "metadata": {
        "colab": {
          "base_uri": "https://localhost:8080/"
        },
        "id": "0c72cf09",
        "outputId": "dd14de90-99e8-4908-849e-6d5310d2cb8f"
      },
      "outputs": [
        {
          "output_type": "stream",
          "name": "stdout",
          "text": [
            "Requirement already satisfied: librosa in /usr/local/lib/python3.11/dist-packages (0.11.0)\n",
            "Requirement already satisfied: soundfile in /usr/local/lib/python3.11/dist-packages (0.13.1)\n",
            "Requirement already satisfied: tensorflow in /usr/local/lib/python3.11/dist-packages (2.18.0)\n",
            "Requirement already satisfied: tensorflow_hub in /usr/local/lib/python3.11/dist-packages (0.16.1)\n",
            "Requirement already satisfied: numpy in /usr/local/lib/python3.11/dist-packages (2.0.2)\n",
            "Requirement already satisfied: audioread>=2.1.9 in /usr/local/lib/python3.11/dist-packages (from librosa) (3.0.1)\n",
            "Requirement already satisfied: numba>=0.51.0 in /usr/local/lib/python3.11/dist-packages (from librosa) (0.60.0)\n",
            "Requirement already satisfied: scipy>=1.6.0 in /usr/local/lib/python3.11/dist-packages (from librosa) (1.16.0)\n",
            "Requirement already satisfied: scikit-learn>=1.1.0 in /usr/local/lib/python3.11/dist-packages (from librosa) (1.6.1)\n",
            "Requirement already satisfied: joblib>=1.0 in /usr/local/lib/python3.11/dist-packages (from librosa) (1.5.1)\n",
            "Requirement already satisfied: decorator>=4.3.0 in /usr/local/lib/python3.11/dist-packages (from librosa) (4.4.2)\n",
            "Requirement already satisfied: pooch>=1.1 in /usr/local/lib/python3.11/dist-packages (from librosa) (1.8.2)\n",
            "Requirement already satisfied: soxr>=0.3.2 in /usr/local/lib/python3.11/dist-packages (from librosa) (0.5.0.post1)\n",
            "Requirement already satisfied: typing_extensions>=4.1.1 in /usr/local/lib/python3.11/dist-packages (from librosa) (4.14.1)\n",
            "Requirement already satisfied: lazy_loader>=0.1 in /usr/local/lib/python3.11/dist-packages (from librosa) (0.4)\n",
            "Requirement already satisfied: msgpack>=1.0 in /usr/local/lib/python3.11/dist-packages (from librosa) (1.1.1)\n",
            "Requirement already satisfied: cffi>=1.0 in /usr/local/lib/python3.11/dist-packages (from soundfile) (1.17.1)\n",
            "Requirement already satisfied: absl-py>=1.0.0 in /usr/local/lib/python3.11/dist-packages (from tensorflow) (1.4.0)\n",
            "Requirement already satisfied: astunparse>=1.6.0 in /usr/local/lib/python3.11/dist-packages (from tensorflow) (1.6.3)\n",
            "Requirement already satisfied: flatbuffers>=24.3.25 in /usr/local/lib/python3.11/dist-packages (from tensorflow) (25.2.10)\n",
            "Requirement already satisfied: gast!=0.5.0,!=0.5.1,!=0.5.2,>=0.2.1 in /usr/local/lib/python3.11/dist-packages (from tensorflow) (0.6.0)\n",
            "Requirement already satisfied: google-pasta>=0.1.1 in /usr/local/lib/python3.11/dist-packages (from tensorflow) (0.2.0)\n",
            "Requirement already satisfied: libclang>=13.0.0 in /usr/local/lib/python3.11/dist-packages (from tensorflow) (18.1.1)\n",
            "Requirement already satisfied: opt-einsum>=2.3.2 in /usr/local/lib/python3.11/dist-packages (from tensorflow) (3.4.0)\n",
            "Requirement already satisfied: packaging in /usr/local/lib/python3.11/dist-packages (from tensorflow) (25.0)\n",
            "Requirement already satisfied: protobuf!=4.21.0,!=4.21.1,!=4.21.2,!=4.21.3,!=4.21.4,!=4.21.5,<6.0.0dev,>=3.20.3 in /usr/local/lib/python3.11/dist-packages (from tensorflow) (5.29.5)\n",
            "Requirement already satisfied: requests<3,>=2.21.0 in /usr/local/lib/python3.11/dist-packages (from tensorflow) (2.32.3)\n",
            "Requirement already satisfied: setuptools in /usr/local/lib/python3.11/dist-packages (from tensorflow) (75.2.0)\n",
            "Requirement already satisfied: six>=1.12.0 in /usr/local/lib/python3.11/dist-packages (from tensorflow) (1.17.0)\n",
            "Requirement already satisfied: termcolor>=1.1.0 in /usr/local/lib/python3.11/dist-packages (from tensorflow) (3.1.0)\n",
            "Requirement already satisfied: wrapt>=1.11.0 in /usr/local/lib/python3.11/dist-packages (from tensorflow) (1.17.2)\n",
            "Requirement already satisfied: grpcio<2.0,>=1.24.3 in /usr/local/lib/python3.11/dist-packages (from tensorflow) (1.73.1)\n",
            "Requirement already satisfied: tensorboard<2.19,>=2.18 in /usr/local/lib/python3.11/dist-packages (from tensorflow) (2.18.0)\n",
            "Requirement already satisfied: keras>=3.5.0 in /usr/local/lib/python3.11/dist-packages (from tensorflow) (3.8.0)\n",
            "Requirement already satisfied: h5py>=3.11.0 in /usr/local/lib/python3.11/dist-packages (from tensorflow) (3.14.0)\n",
            "Requirement already satisfied: ml-dtypes<0.5.0,>=0.4.0 in /usr/local/lib/python3.11/dist-packages (from tensorflow) (0.4.1)\n",
            "Requirement already satisfied: tensorflow-io-gcs-filesystem>=0.23.1 in /usr/local/lib/python3.11/dist-packages (from tensorflow) (0.37.1)\n",
            "Requirement already satisfied: tf-keras>=2.14.1 in /usr/local/lib/python3.11/dist-packages (from tensorflow_hub) (2.18.0)\n",
            "Requirement already satisfied: wheel<1.0,>=0.23.0 in /usr/local/lib/python3.11/dist-packages (from astunparse>=1.6.0->tensorflow) (0.45.1)\n",
            "Requirement already satisfied: pycparser in /usr/local/lib/python3.11/dist-packages (from cffi>=1.0->soundfile) (2.22)\n",
            "Requirement already satisfied: rich in /usr/local/lib/python3.11/dist-packages (from keras>=3.5.0->tensorflow) (13.9.4)\n",
            "Requirement already satisfied: namex in /usr/local/lib/python3.11/dist-packages (from keras>=3.5.0->tensorflow) (0.1.0)\n",
            "Requirement already satisfied: optree in /usr/local/lib/python3.11/dist-packages (from keras>=3.5.0->tensorflow) (0.16.0)\n",
            "Requirement already satisfied: llvmlite<0.44,>=0.43.0dev0 in /usr/local/lib/python3.11/dist-packages (from numba>=0.51.0->librosa) (0.43.0)\n",
            "Requirement already satisfied: platformdirs>=2.5.0 in /usr/local/lib/python3.11/dist-packages (from pooch>=1.1->librosa) (4.3.8)\n",
            "Requirement already satisfied: charset-normalizer<4,>=2 in /usr/local/lib/python3.11/dist-packages (from requests<3,>=2.21.0->tensorflow) (3.4.2)\n",
            "Requirement already satisfied: idna<4,>=2.5 in /usr/local/lib/python3.11/dist-packages (from requests<3,>=2.21.0->tensorflow) (3.10)\n",
            "Requirement already satisfied: urllib3<3,>=1.21.1 in /usr/local/lib/python3.11/dist-packages (from requests<3,>=2.21.0->tensorflow) (2.5.0)\n",
            "Requirement already satisfied: certifi>=2017.4.17 in /usr/local/lib/python3.11/dist-packages (from requests<3,>=2.21.0->tensorflow) (2025.7.14)\n",
            "Requirement already satisfied: threadpoolctl>=3.1.0 in /usr/local/lib/python3.11/dist-packages (from scikit-learn>=1.1.0->librosa) (3.6.0)\n",
            "Requirement already satisfied: markdown>=2.6.8 in /usr/local/lib/python3.11/dist-packages (from tensorboard<2.19,>=2.18->tensorflow) (3.8.2)\n",
            "Requirement already satisfied: tensorboard-data-server<0.8.0,>=0.7.0 in /usr/local/lib/python3.11/dist-packages (from tensorboard<2.19,>=2.18->tensorflow) (0.7.2)\n",
            "Requirement already satisfied: werkzeug>=1.0.1 in /usr/local/lib/python3.11/dist-packages (from tensorboard<2.19,>=2.18->tensorflow) (3.1.3)\n",
            "Requirement already satisfied: MarkupSafe>=2.1.1 in /usr/local/lib/python3.11/dist-packages (from werkzeug>=1.0.1->tensorboard<2.19,>=2.18->tensorflow) (3.0.2)\n",
            "Requirement already satisfied: markdown-it-py>=2.2.0 in /usr/local/lib/python3.11/dist-packages (from rich->keras>=3.5.0->tensorflow) (3.0.0)\n",
            "Requirement already satisfied: pygments<3.0.0,>=2.13.0 in /usr/local/lib/python3.11/dist-packages (from rich->keras>=3.5.0->tensorflow) (2.19.2)\n",
            "Requirement already satisfied: mdurl~=0.1 in /usr/local/lib/python3.11/dist-packages (from markdown-it-py>=2.2.0->rich->keras>=3.5.0->tensorflow) (0.1.2)\n"
          ]
        }
      ],
      "source": [
        "!pip install librosa soundfile tensorflow tensorflow_hub numpy"
      ]
    },
    {
      "cell_type": "markdown",
      "id": "01a71b21",
      "metadata": {
        "id": "01a71b21"
      },
      "source": [
        "## 📂 Mount Google Drive"
      ]
    },
    {
      "cell_type": "code",
      "execution_count": 2,
      "id": "fe4a830e",
      "metadata": {
        "colab": {
          "base_uri": "https://localhost:8080/"
        },
        "id": "fe4a830e",
        "outputId": "b8ecb582-299f-487d-e237-c85dc05ee3b7"
      },
      "outputs": [
        {
          "output_type": "stream",
          "name": "stdout",
          "text": [
            "Mounted at /content/drive\n"
          ]
        }
      ],
      "source": [
        "from google.colab import drive\n",
        "drive.mount('/content/drive')"
      ]
    },
    {
      "cell_type": "markdown",
      "id": "40098c19",
      "metadata": {
        "id": "40098c19"
      },
      "source": [
        "## 🎚️ Preprocess Audio Clips (500 crash, 100 each other class)"
      ]
    },
    {
      "cell_type": "code",
      "execution_count": 3,
      "id": "b349b029",
      "metadata": {
        "id": "b349b029"
      },
      "outputs": [],
      "source": [
        "\n",
        "import os\n",
        "import librosa\n",
        "import soundfile as sf\n",
        "from collections import defaultdict\n",
        "\n",
        "input_base = '/content/drive/MyDrive/FYP_Dataset_2'\n",
        "output_base = '/content/drive/MyDrive/FYP_Processed_Dataset'\n",
        "os.makedirs(output_base, exist_ok=True)\n",
        "\n",
        "limits = defaultdict(lambda: 100)\n",
        "limits['car_crash'] = 500\n",
        "\n",
        "for class_name in os.listdir(input_base):\n",
        "    in_class_path = os.path.join(input_base, class_name)\n",
        "    out_class_path = os.path.join(output_base, class_name)\n",
        "    if not os.path.isdir(in_class_path): continue\n",
        "    os.makedirs(out_class_path, exist_ok=True)\n",
        "\n",
        "    processed = 0\n",
        "    for fname in os.listdir(in_class_path):\n",
        "        if fname.endswith('.wav') and processed < limits[class_name]:\n",
        "            in_file = os.path.join(in_class_path, fname)\n",
        "            out_file = os.path.join(out_class_path, fname)\n",
        "            y, sr = librosa.load(in_file, sr=16000, mono=True)\n",
        "            sf.write(out_file, y, 16000)\n",
        "            processed += 1\n"
      ]
    },
    {
      "cell_type": "markdown",
      "id": "2fb77ce4",
      "metadata": {
        "id": "2fb77ce4"
      },
      "source": [
        "## 🏷️ Create CSV Labels"
      ]
    },
    {
      "cell_type": "code",
      "execution_count": 4,
      "id": "76775bbe",
      "metadata": {
        "colab": {
          "base_uri": "https://localhost:8080/",
          "height": 204
        },
        "id": "76775bbe",
        "outputId": "b274584a-3e79-44a5-8a9e-e3c5395480ce"
      },
      "outputs": [
        {
          "output_type": "execute_result",
          "data": {
            "text/plain": [
              "                                            filepath  label\n",
              "0  /content/drive/MyDrive/FYP_Processed_Dataset/c...      1\n",
              "1  /content/drive/MyDrive/FYP_Processed_Dataset/c...      1\n",
              "2  /content/drive/MyDrive/FYP_Processed_Dataset/c...      1\n",
              "3  /content/drive/MyDrive/FYP_Processed_Dataset/c...      1\n",
              "4  /content/drive/MyDrive/FYP_Processed_Dataset/c...      1"
            ],
            "text/html": [
              "\n",
              "  <div id=\"df-faea6c2c-e1a6-4364-914b-33e62352c4a3\" class=\"colab-df-container\">\n",
              "    <div>\n",
              "<style scoped>\n",
              "    .dataframe tbody tr th:only-of-type {\n",
              "        vertical-align: middle;\n",
              "    }\n",
              "\n",
              "    .dataframe tbody tr th {\n",
              "        vertical-align: top;\n",
              "    }\n",
              "\n",
              "    .dataframe thead th {\n",
              "        text-align: right;\n",
              "    }\n",
              "</style>\n",
              "<table border=\"1\" class=\"dataframe\">\n",
              "  <thead>\n",
              "    <tr style=\"text-align: right;\">\n",
              "      <th></th>\n",
              "      <th>filepath</th>\n",
              "      <th>label</th>\n",
              "    </tr>\n",
              "  </thead>\n",
              "  <tbody>\n",
              "    <tr>\n",
              "      <th>0</th>\n",
              "      <td>/content/drive/MyDrive/FYP_Processed_Dataset/c...</td>\n",
              "      <td>1</td>\n",
              "    </tr>\n",
              "    <tr>\n",
              "      <th>1</th>\n",
              "      <td>/content/drive/MyDrive/FYP_Processed_Dataset/c...</td>\n",
              "      <td>1</td>\n",
              "    </tr>\n",
              "    <tr>\n",
              "      <th>2</th>\n",
              "      <td>/content/drive/MyDrive/FYP_Processed_Dataset/c...</td>\n",
              "      <td>1</td>\n",
              "    </tr>\n",
              "    <tr>\n",
              "      <th>3</th>\n",
              "      <td>/content/drive/MyDrive/FYP_Processed_Dataset/c...</td>\n",
              "      <td>1</td>\n",
              "    </tr>\n",
              "    <tr>\n",
              "      <th>4</th>\n",
              "      <td>/content/drive/MyDrive/FYP_Processed_Dataset/c...</td>\n",
              "      <td>1</td>\n",
              "    </tr>\n",
              "  </tbody>\n",
              "</table>\n",
              "</div>\n",
              "    <div class=\"colab-df-buttons\">\n",
              "\n",
              "  <div class=\"colab-df-container\">\n",
              "    <button class=\"colab-df-convert\" onclick=\"convertToInteractive('df-faea6c2c-e1a6-4364-914b-33e62352c4a3')\"\n",
              "            title=\"Convert this dataframe to an interactive table.\"\n",
              "            style=\"display:none;\">\n",
              "\n",
              "  <svg xmlns=\"http://www.w3.org/2000/svg\" height=\"24px\" viewBox=\"0 -960 960 960\">\n",
              "    <path d=\"M120-120v-720h720v720H120Zm60-500h600v-160H180v160Zm220 220h160v-160H400v160Zm0 220h160v-160H400v160ZM180-400h160v-160H180v160Zm440 0h160v-160H620v160ZM180-180h160v-160H180v160Zm440 0h160v-160H620v160Z\"/>\n",
              "  </svg>\n",
              "    </button>\n",
              "\n",
              "  <style>\n",
              "    .colab-df-container {\n",
              "      display:flex;\n",
              "      gap: 12px;\n",
              "    }\n",
              "\n",
              "    .colab-df-convert {\n",
              "      background-color: #E8F0FE;\n",
              "      border: none;\n",
              "      border-radius: 50%;\n",
              "      cursor: pointer;\n",
              "      display: none;\n",
              "      fill: #1967D2;\n",
              "      height: 32px;\n",
              "      padding: 0 0 0 0;\n",
              "      width: 32px;\n",
              "    }\n",
              "\n",
              "    .colab-df-convert:hover {\n",
              "      background-color: #E2EBFA;\n",
              "      box-shadow: 0px 1px 2px rgba(60, 64, 67, 0.3), 0px 1px 3px 1px rgba(60, 64, 67, 0.15);\n",
              "      fill: #174EA6;\n",
              "    }\n",
              "\n",
              "    .colab-df-buttons div {\n",
              "      margin-bottom: 4px;\n",
              "    }\n",
              "\n",
              "    [theme=dark] .colab-df-convert {\n",
              "      background-color: #3B4455;\n",
              "      fill: #D2E3FC;\n",
              "    }\n",
              "\n",
              "    [theme=dark] .colab-df-convert:hover {\n",
              "      background-color: #434B5C;\n",
              "      box-shadow: 0px 1px 3px 1px rgba(0, 0, 0, 0.15);\n",
              "      filter: drop-shadow(0px 1px 2px rgba(0, 0, 0, 0.3));\n",
              "      fill: #FFFFFF;\n",
              "    }\n",
              "  </style>\n",
              "\n",
              "    <script>\n",
              "      const buttonEl =\n",
              "        document.querySelector('#df-faea6c2c-e1a6-4364-914b-33e62352c4a3 button.colab-df-convert');\n",
              "      buttonEl.style.display =\n",
              "        google.colab.kernel.accessAllowed ? 'block' : 'none';\n",
              "\n",
              "      async function convertToInteractive(key) {\n",
              "        const element = document.querySelector('#df-faea6c2c-e1a6-4364-914b-33e62352c4a3');\n",
              "        const dataTable =\n",
              "          await google.colab.kernel.invokeFunction('convertToInteractive',\n",
              "                                                    [key], {});\n",
              "        if (!dataTable) return;\n",
              "\n",
              "        const docLinkHtml = 'Like what you see? Visit the ' +\n",
              "          '<a target=\"_blank\" href=https://colab.research.google.com/notebooks/data_table.ipynb>data table notebook</a>'\n",
              "          + ' to learn more about interactive tables.';\n",
              "        element.innerHTML = '';\n",
              "        dataTable['output_type'] = 'display_data';\n",
              "        await google.colab.output.renderOutput(dataTable, element);\n",
              "        const docLink = document.createElement('div');\n",
              "        docLink.innerHTML = docLinkHtml;\n",
              "        element.appendChild(docLink);\n",
              "      }\n",
              "    </script>\n",
              "  </div>\n",
              "\n",
              "\n",
              "    <div id=\"df-0e7a271e-1093-4f22-abb1-5842bca00578\">\n",
              "      <button class=\"colab-df-quickchart\" onclick=\"quickchart('df-0e7a271e-1093-4f22-abb1-5842bca00578')\"\n",
              "                title=\"Suggest charts\"\n",
              "                style=\"display:none;\">\n",
              "\n",
              "<svg xmlns=\"http://www.w3.org/2000/svg\" height=\"24px\"viewBox=\"0 0 24 24\"\n",
              "     width=\"24px\">\n",
              "    <g>\n",
              "        <path d=\"M19 3H5c-1.1 0-2 .9-2 2v14c0 1.1.9 2 2 2h14c1.1 0 2-.9 2-2V5c0-1.1-.9-2-2-2zM9 17H7v-7h2v7zm4 0h-2V7h2v10zm4 0h-2v-4h2v4z\"/>\n",
              "    </g>\n",
              "</svg>\n",
              "      </button>\n",
              "\n",
              "<style>\n",
              "  .colab-df-quickchart {\n",
              "      --bg-color: #E8F0FE;\n",
              "      --fill-color: #1967D2;\n",
              "      --hover-bg-color: #E2EBFA;\n",
              "      --hover-fill-color: #174EA6;\n",
              "      --disabled-fill-color: #AAA;\n",
              "      --disabled-bg-color: #DDD;\n",
              "  }\n",
              "\n",
              "  [theme=dark] .colab-df-quickchart {\n",
              "      --bg-color: #3B4455;\n",
              "      --fill-color: #D2E3FC;\n",
              "      --hover-bg-color: #434B5C;\n",
              "      --hover-fill-color: #FFFFFF;\n",
              "      --disabled-bg-color: #3B4455;\n",
              "      --disabled-fill-color: #666;\n",
              "  }\n",
              "\n",
              "  .colab-df-quickchart {\n",
              "    background-color: var(--bg-color);\n",
              "    border: none;\n",
              "    border-radius: 50%;\n",
              "    cursor: pointer;\n",
              "    display: none;\n",
              "    fill: var(--fill-color);\n",
              "    height: 32px;\n",
              "    padding: 0;\n",
              "    width: 32px;\n",
              "  }\n",
              "\n",
              "  .colab-df-quickchart:hover {\n",
              "    background-color: var(--hover-bg-color);\n",
              "    box-shadow: 0 1px 2px rgba(60, 64, 67, 0.3), 0 1px 3px 1px rgba(60, 64, 67, 0.15);\n",
              "    fill: var(--button-hover-fill-color);\n",
              "  }\n",
              "\n",
              "  .colab-df-quickchart-complete:disabled,\n",
              "  .colab-df-quickchart-complete:disabled:hover {\n",
              "    background-color: var(--disabled-bg-color);\n",
              "    fill: var(--disabled-fill-color);\n",
              "    box-shadow: none;\n",
              "  }\n",
              "\n",
              "  .colab-df-spinner {\n",
              "    border: 2px solid var(--fill-color);\n",
              "    border-color: transparent;\n",
              "    border-bottom-color: var(--fill-color);\n",
              "    animation:\n",
              "      spin 1s steps(1) infinite;\n",
              "  }\n",
              "\n",
              "  @keyframes spin {\n",
              "    0% {\n",
              "      border-color: transparent;\n",
              "      border-bottom-color: var(--fill-color);\n",
              "      border-left-color: var(--fill-color);\n",
              "    }\n",
              "    20% {\n",
              "      border-color: transparent;\n",
              "      border-left-color: var(--fill-color);\n",
              "      border-top-color: var(--fill-color);\n",
              "    }\n",
              "    30% {\n",
              "      border-color: transparent;\n",
              "      border-left-color: var(--fill-color);\n",
              "      border-top-color: var(--fill-color);\n",
              "      border-right-color: var(--fill-color);\n",
              "    }\n",
              "    40% {\n",
              "      border-color: transparent;\n",
              "      border-right-color: var(--fill-color);\n",
              "      border-top-color: var(--fill-color);\n",
              "    }\n",
              "    60% {\n",
              "      border-color: transparent;\n",
              "      border-right-color: var(--fill-color);\n",
              "    }\n",
              "    80% {\n",
              "      border-color: transparent;\n",
              "      border-right-color: var(--fill-color);\n",
              "      border-bottom-color: var(--fill-color);\n",
              "    }\n",
              "    90% {\n",
              "      border-color: transparent;\n",
              "      border-bottom-color: var(--fill-color);\n",
              "    }\n",
              "  }\n",
              "</style>\n",
              "\n",
              "      <script>\n",
              "        async function quickchart(key) {\n",
              "          const quickchartButtonEl =\n",
              "            document.querySelector('#' + key + ' button');\n",
              "          quickchartButtonEl.disabled = true;  // To prevent multiple clicks.\n",
              "          quickchartButtonEl.classList.add('colab-df-spinner');\n",
              "          try {\n",
              "            const charts = await google.colab.kernel.invokeFunction(\n",
              "                'suggestCharts', [key], {});\n",
              "          } catch (error) {\n",
              "            console.error('Error during call to suggestCharts:', error);\n",
              "          }\n",
              "          quickchartButtonEl.classList.remove('colab-df-spinner');\n",
              "          quickchartButtonEl.classList.add('colab-df-quickchart-complete');\n",
              "        }\n",
              "        (() => {\n",
              "          let quickchartButtonEl =\n",
              "            document.querySelector('#df-0e7a271e-1093-4f22-abb1-5842bca00578 button');\n",
              "          quickchartButtonEl.style.display =\n",
              "            google.colab.kernel.accessAllowed ? 'block' : 'none';\n",
              "        })();\n",
              "      </script>\n",
              "    </div>\n",
              "\n",
              "    </div>\n",
              "  </div>\n"
            ],
            "application/vnd.google.colaboratory.intrinsic+json": {
              "type": "dataframe",
              "variable_name": "df",
              "summary": "{\n  \"name\": \"df\",\n  \"rows\": 1200,\n  \"fields\": [\n    {\n      \"column\": \"filepath\",\n      \"properties\": {\n        \"dtype\": \"string\",\n        \"num_unique_values\": 1200,\n        \"samples\": [\n          \"/content/drive/MyDrive/FYP_Processed_Dataset/gun_shot/gun_shot_165.wav\",\n          \"/content/drive/MyDrive/FYP_Processed_Dataset/road_traffic/road_traffic_075.wav\",\n          \"/content/drive/MyDrive/FYP_Processed_Dataset/car_crash/car_crash_718.wav\"\n        ],\n        \"semantic_type\": \"\",\n        \"description\": \"\"\n      }\n    },\n    {\n      \"column\": \"label\",\n      \"properties\": {\n        \"dtype\": \"number\",\n        \"std\": 0,\n        \"min\": 0,\n        \"max\": 1,\n        \"num_unique_values\": 2,\n        \"samples\": [\n          0,\n          1\n        ],\n        \"semantic_type\": \"\",\n        \"description\": \"\"\n      }\n    }\n  ]\n}"
            }
          },
          "metadata": {},
          "execution_count": 4
        }
      ],
      "source": [
        "\n",
        "import pandas as pd\n",
        "\n",
        "filepaths, labels = [], []\n",
        "for class_name in os.listdir(output_base):\n",
        "    class_dir = os.path.join(output_base, class_name)\n",
        "    if not os.path.isdir(class_dir): continue\n",
        "    for fname in os.listdir(class_dir):\n",
        "        if fname.endswith('.wav'):\n",
        "            filepaths.append(os.path.join(class_dir, fname))\n",
        "            labels.append(1 if class_name == 'car_crash' else 0)\n",
        "\n",
        "df = pd.DataFrame({'filepath': filepaths, 'label': labels})\n",
        "df.to_csv('/content/drive/MyDrive/audio_labels.csv', index=False)\n",
        "df.head()\n"
      ]
    },
    {
      "cell_type": "markdown",
      "id": "48478cbc",
      "metadata": {
        "id": "48478cbc"
      },
      "source": [
        "## 📥 Load and Prepare Dataset"
      ]
    },
    {
      "cell_type": "code",
      "execution_count": 9,
      "id": "f073b29b",
      "metadata": {
        "id": "f073b29b"
      },
      "outputs": [],
      "source": [
        "import tensorflow as tf\n",
        "import numpy as np\n",
        "from sklearn.model_selection import train_test_split\n",
        "\n",
        "df = pd.read_csv('/content/drive/MyDrive/audio_labels.csv')\n",
        "train_df, val_df = train_test_split(df, test_size=0.2, stratify=df['label'], random_state=42)\n",
        "\n",
        "train_X, train_y = [], []\n",
        "val_X, val_y = [], []\n",
        "\n",
        "import tensorflow_hub as hub\n",
        "yamnet_model = hub.load('https://tfhub.dev/google/yamnet/1')\n",
        "\n",
        "def extract_features(filepaths):\n",
        "    feats = []\n",
        "    for path in filepaths:\n",
        "        waveform, sr = librosa.load(path, sr=16000)\n",
        "        scores, embeddings, spectrogram = yamnet_model(waveform)\n",
        "        mean_feat = tf.reduce_mean(embeddings, axis=0).numpy()\n",
        "        feats.append(mean_feat)\n",
        "    return np.array(feats)\n",
        "\n",
        "train_X = extract_features(train_df['filepath'])\n",
        "train_y = train_df['label'].values\n",
        "val_X = extract_features(val_df['filepath'])\n",
        "val_y = val_df['label'].values\n"
      ]
    },
    {
      "cell_type": "markdown",
      "id": "2966fb5a",
      "metadata": {
        "id": "2966fb5a"
      },
      "source": [
        "## 🧠 Train Classifier"
      ]
    },
    {
      "cell_type": "code",
      "execution_count": 11,
      "id": "32bb2af0",
      "metadata": {
        "colab": {
          "base_uri": "https://localhost:8080/"
        },
        "id": "32bb2af0",
        "outputId": "286cfcb6-a3e8-4f9e-8bb7-4eb90e359acd"
      },
      "outputs": [
        {
          "output_type": "stream",
          "name": "stdout",
          "text": [
            "Epoch 1/5\n",
            "\u001b[1m30/30\u001b[0m \u001b[32m━━━━━━━━━━━━━━━━━━━━\u001b[0m\u001b[37m\u001b[0m \u001b[1m4s\u001b[0m 37ms/step - accuracy: 0.8579 - loss: 0.4012 - val_accuracy: 0.9625 - val_loss: 0.1147\n",
            "Epoch 2/5\n",
            "\u001b[1m30/30\u001b[0m \u001b[32m━━━━━━━━━━━━━━━━━━━━\u001b[0m\u001b[37m\u001b[0m \u001b[1m1s\u001b[0m 16ms/step - accuracy: 0.9735 - loss: 0.0747 - val_accuracy: 0.9875 - val_loss: 0.0781\n",
            "Epoch 3/5\n",
            "\u001b[1m30/30\u001b[0m \u001b[32m━━━━━━━━━━━━━━━━━━━━\u001b[0m\u001b[37m\u001b[0m \u001b[1m1s\u001b[0m 16ms/step - accuracy: 0.9819 - loss: 0.0606 - val_accuracy: 0.9875 - val_loss: 0.0652\n",
            "Epoch 4/5\n",
            "\u001b[1m30/30\u001b[0m \u001b[32m━━━━━━━━━━━━━━━━━━━━\u001b[0m\u001b[37m\u001b[0m \u001b[1m1s\u001b[0m 15ms/step - accuracy: 0.9937 - loss: 0.0326 - val_accuracy: 0.9875 - val_loss: 0.0619\n",
            "Epoch 5/5\n",
            "\u001b[1m30/30\u001b[0m \u001b[32m━━━━━━━━━━━━━━━━━━━━\u001b[0m\u001b[37m\u001b[0m \u001b[1m1s\u001b[0m 16ms/step - accuracy: 0.9921 - loss: 0.0259 - val_accuracy: 0.9792 - val_loss: 0.0641\n"
          ]
        }
      ],
      "source": [
        "\n",
        "from tensorflow import keras\n",
        "\n",
        "model = keras.Sequential([\n",
        "    keras.layers.Input(shape=(1024,)),\n",
        "    keras.layers.Dense(256, activation='relu'),\n",
        "    keras.layers.Dense(1, activation='sigmoid')\n",
        "])\n",
        "\n",
        "model.compile(optimizer='adam', loss='binary_crossentropy', metrics=['accuracy'])\n",
        "history = model.fit(train_X, train_y, validation_data=(val_X, val_y),\n",
        "                    epochs=5, batch_size=32,\n",
        "                    callbacks=[keras.callbacks.EarlyStopping(patience=3, restore_best_weights=True)])\n",
        "\n",
        "model.save('/content/drive/MyDrive/crash_classifier_audio_final_v3.keras')\n"
      ]
    },
    {
      "cell_type": "markdown",
      "id": "41ee25f6",
      "metadata": {
        "id": "41ee25f6"
      },
      "source": [
        "## 🎧 Audio Quality Assessment"
      ]
    },
    {
      "cell_type": "code",
      "execution_count": 12,
      "id": "7a7573f8",
      "metadata": {
        "colab": {
          "base_uri": "https://localhost:8080/"
        },
        "id": "7a7573f8",
        "outputId": "f40eb141-0ae5-4290-89d0-83ea46c9697b"
      },
      "outputs": [
        {
          "output_type": "stream",
          "name": "stdout",
          "text": [
            "🔹 File: car_crash_001.wav\n",
            "RMS Energy: 0.2046, Zero Crossings: 6883, Silence Ratio: 0.00\n",
            "\n",
            "🔹 File: car_crash_002.wav\n",
            "RMS Energy: 0.1935, Zero Crossings: 1265, Silence Ratio: 0.00\n",
            "\n",
            "🔹 File: car_crash_007.wav\n",
            "RMS Energy: 0.0760, Zero Crossings: 2560, Silence Ratio: 0.00\n",
            "\n"
          ]
        }
      ],
      "source": [
        "\n",
        "def compute_audio_quality(path):\n",
        "    y, sr = librosa.load(path, sr=16000)\n",
        "    rms = librosa.feature.rms(y=y).mean()\n",
        "    zero_crossings = sum(librosa.zero_crossings(y))\n",
        "    silence = 1.0 - (np.count_nonzero(y) / len(y))\n",
        "    return rms, zero_crossings, silence\n",
        "\n",
        "for i in range(3):\n",
        "    path = df['filepath'].iloc[i]\n",
        "    rms, zc, silence = compute_audio_quality(path)\n",
        "    print(f\"🔹 File: {os.path.basename(path)}\")\n",
        "    print(f\"RMS Energy: {rms:.4f}, Zero Crossings: {zc}, Silence Ratio: {silence:.2f}\\n\")\n"
      ]
    },
    {
      "cell_type": "markdown",
      "id": "e282aa14",
      "metadata": {
        "id": "e282aa14"
      },
      "source": [
        "## 🔍 Run Prediction on New Clip"
      ]
    },
    {
      "cell_type": "code",
      "execution_count": 24,
      "id": "8fa05a02",
      "metadata": {
        "colab": {
          "base_uri": "https://localhost:8080/"
        },
        "id": "8fa05a02",
        "outputId": "9f537f23-d774-4aa1-e488-e23037f777b9"
      },
      "outputs": [
        {
          "output_type": "stream",
          "name": "stderr",
          "text": [
            "WARNING:tensorflow:5 out of the last 19 calls to <function TensorFlowTrainer.make_predict_function.<locals>.one_step_on_data_distributed at 0x7812963ad080> triggered tf.function retracing. Tracing is expensive and the excessive number of tracings could be due to (1) creating @tf.function repeatedly in a loop, (2) passing tensors with different shapes, (3) passing Python objects instead of tensors. For (1), please define your @tf.function outside of the loop. For (2), @tf.function has reduce_retracing=True option that can avoid unnecessary retracing. For (3), please refer to https://www.tensorflow.org/guide/function#controlling_retracing and https://www.tensorflow.org/api_docs/python/tf/function for  more details.\n"
          ]
        },
        {
          "output_type": "stream",
          "name": "stdout",
          "text": [
            "Total duration: 3.12s | Chunks: 1\n",
            "\u001b[1m1/1\u001b[0m \u001b[32m━━━━━━━━━━━━━━━━━━━━\u001b[0m\u001b[37m\u001b[0m \u001b[1m0s\u001b[0m 63ms/step\n",
            "Chunk [0.0-3.1s] → Prob: 0.0000\n",
            "\n",
            "Final Decision: ✅ No Crash Detected\n"
          ]
        }
      ],
      "source": [
        "\n",
        "from tensorflow.keras.models import load_model\n",
        "model = load_model('/content/drive/MyDrive/crash_classifier_audio_final_v3.keras')\n",
        "\n",
        "test_file = '/content/drive/MyDrive/FYP/Test_Dataset/test_crash_aud_03.mp3'\n",
        "\n",
        "\n",
        "\n",
        "\n",
        "import librosa\n",
        "import numpy as np\n",
        "import tensorflow as tf\n",
        "from tensorflow.keras.models import load_model\n",
        "\n",
        "\n",
        "# Parameters\n",
        "SAMPLE_RATE = 16000\n",
        "CHUNK_DURATION = 10  # seconds\n",
        "CHUNK_SIZE = SAMPLE_RATE * CHUNK_DURATION\n",
        "\n",
        "def predict_audio_chunks(file_path):\n",
        "    waveform, sr = librosa.load(file_path, sr=SAMPLE_RATE)\n",
        "    total_samples = len(waveform)\n",
        "\n",
        "    predictions = []\n",
        "\n",
        "    print(f\"Total duration: {total_samples / sr:.2f}s | Chunks: {int(np.ceil(total_samples / CHUNK_SIZE))}\")\n",
        "\n",
        "    for start in range(0, total_samples, CHUNK_SIZE):\n",
        "        end = start + CHUNK_SIZE\n",
        "        chunk = waveform[start:end]\n",
        "\n",
        "        # Pad if last chunk is shorter\n",
        "        if len(chunk) < CHUNK_SIZE:\n",
        "            chunk = np.pad(chunk, (0, CHUNK_SIZE - len(chunk)))\n",
        "\n",
        "        # Get embeddings from YAMNet\n",
        "        _, embeddings, _ = yamnet_model(chunk)\n",
        "        features = tf.reduce_mean(embeddings, axis=0).numpy().reshape(1, -1)\n",
        "\n",
        "        # Predict with crash classifier\n",
        "        prob = model.predict(features)[0][0]\n",
        "        predictions.append(prob)\n",
        "\n",
        "        print(f\"Chunk [{start/SAMPLE_RATE:.1f}-{min(end/SAMPLE_RATE, total_samples/SAMPLE_RATE):.1f}s] → Prob: {prob:.4f}\")\n",
        "\n",
        "    # If any chunk crosses 0.5 threshold, classify whole audio as crash\n",
        "    crash_detected = any(p > 0.5 for p in predictions)\n",
        "    return predictions, crash_detected\n",
        "\n",
        "# Run on a test audio\n",
        "preds, is_crash = predict_audio_chunks(test_file)\n",
        "\n",
        "print(\"\\nFinal Decision:\", \"🚨 Crash Detected\" if is_crash else \"✅ No Crash Detected\")\n",
        "\n"
      ]
    }
  ],
  "metadata": {
    "colab": {
      "provenance": []
    },
    "language_info": {
      "name": "python"
    },
    "kernelspec": {
      "name": "python3",
      "display_name": "Python 3"
    }
  },
  "nbformat": 4,
  "nbformat_minor": 5
}